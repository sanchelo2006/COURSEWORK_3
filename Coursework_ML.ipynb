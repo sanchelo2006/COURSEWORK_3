{
 "cells": [
  {
   "cell_type": "markdown",
   "metadata": {
    "id": "BBv-oIFLVYRz"
   },
   "source": [
    "# Курсовая работа. Блок ML Beginner\n",
    "<br>\n",
    "\n",
    "**NB!** Код должен быть с комментариями к каждому логическому блоку кода. В противном случае работа **не** будет принята. <br><br>\n",
    "Выполнение курсовой работы может потребовать использование дополнительных библиотек. Может потребоваться предварительная обработка данных.\n",
    "\n",
    "<br><br>\n",
    "**Описание работы:**\n",
    "&nbsp;&nbsp;&nbsp;&nbsp;\n",
    "<br><br>\n",
    "&nbsp;&nbsp;&nbsp;&nbsp; Любой бизнес хочет максимизировать количество клиентов. Для достижения этой цели важно не только пытаться привлечь новых, но и удерживать уже существующих. Удержать клиента обойдется компании дешевле, чем привлечь нового. Кроме того, новый клиент может оказаться слабо заинтересованным в услугах бизнеса и с ним будет сложно работать, тогда как о старых клиентах уже есть необходимые данные по взаимодействию с сервисом. \n",
    " <br>\n",
    "\n",
    "&nbsp;&nbsp;&nbsp;&nbsp; Соответственно, прогнозируя отток, мы можем вовремя среагировать и попытаться удержать клиента, который хочет уйти. Опираясь на данные об услугах, которыми пользуется клиент, мы можем сделать ему специальное предложение, пытаясь изменить его решение об уходе от оператора. Благодаря этому задача удержания будет легче в реализации, чем задача привлечения новых пользователей, о которых мы еще ничего не знаем.<br>\n",
    "\n",
    "&nbsp;&nbsp;&nbsp;&nbsp; Вам предоставлен набор данных от телекоммуникационной компании. В данных содержится информация о почти шести тысячах пользователей, их демографических характеристиках, услугах, которыми они пользуются, длительности пользования услугами оператора, методе оплаты, размере оплаты. \n",
    "<br>\n",
    "\n",
    "&nbsp;&nbsp;&nbsp;&nbsp; Cтоит задача проанализировать данные и спрогнозировать отток пользователей (выявить людей, которые продлят контракт и которые не продлят). Работа должна включать в себя следующие обязательные пункты: \n",
    "1. Описание данных *(с расчетом базовых статистик)*, \n",
    "2. Исследование зависимостей и формулирование гипотез, \n",
    "3. Построение моделей для прогнозирования оттока *(с обоснованием выбора той или иной модели)* на основе проверенных гипотез и выявленных взаимосвязей, \n",
    "4. Сравнение качества полученных моделей. \n",
    "\n",
    "Во втором разделе обязательно должно присутствовать обоснование гипотез, подробное описание выявленных взаимосвязей, а также их визуализация. \n",
    "<br>В четвертом дополнительно должны быть сформулированы общие выводы работы.\n",
    "\n",
    "<br><br>\n",
    "\n",
    "_________\n",
    "\n",
    "[Codebook](#Codebook) <br>\n",
    "[1. Описание данных](#1.-Описание-данных)<br>\n",
    "[2. Исследование зависимостей и формулирование гипотез](#2.-Исследование-зависимостей-и-формулирование-гипотез)<br>\n",
    "[3. Построение моделей для прогнозирования оттока](#3.-Построение-моделей-для-прогнозирования-оттока)<br>\n",
    "[4. Сравнение качества моделей](#4.-Сравнение-качества-моделей) <br>\n"
   ]
  },
  {
   "cell_type": "markdown",
   "metadata": {
    "id": "2Eh64LGP5deL"
   },
   "source": []
  },
  {
   "cell_type": "markdown",
   "metadata": {
    "id": "uZY64JwzVYR6"
   },
   "source": [
    "## Codebook\n",
    "<br>\n",
    "\n",
    "[Ссылка для скачивания данных](https://drive.google.com/open?id=1dPCG76ST6NohYKtVMGv6HpFL-jD5p1eJ) \n",
    "<br><br>\n",
    "\n",
    "`telecom_users.csv` содержит следующие значения:<br><br>\n",
    "\n",
    "&nbsp;&nbsp;&nbsp;&nbsp; `customerID` – id клиента<br>\n",
    "&nbsp;&nbsp;&nbsp;&nbsp; `gender` – пол клиента (male/female)<br>\n",
    "&nbsp;&nbsp;&nbsp;&nbsp; `SeniorCitizen` – яляется ли клиент пенсионером (1, 0)<br>\n",
    "&nbsp;&nbsp;&nbsp;&nbsp; `Partner` – состоит ли клиент в браке (Yes, No)<br>\n",
    "&nbsp;&nbsp;&nbsp;&nbsp; `Dependents` – есть ли у клиента иждивенцы (Yes, No)<br>\n",
    "&nbsp;&nbsp;&nbsp;&nbsp; `tenure` – сколько месяцев человек являлся клиентом компании<br>\n",
    "&nbsp;&nbsp;&nbsp;&nbsp; `PhoneService` – подключена ли услуга телефонной связи (Yes, No)<br>\n",
    "&nbsp;&nbsp;&nbsp;&nbsp; `MultipleLines` – подключены ли несколько телефонных линий (Yes, No, No phone service)<br>\n",
    "&nbsp;&nbsp;&nbsp;&nbsp; `InternetService` – интернет-провайдер клиента (DSL, Fiber optic, No)<br>\n",
    "&nbsp;&nbsp;&nbsp;&nbsp; `OnlineSecurity` – подключена ли услуга онлайн-безопасности (Yes, No, No internet service)<br>\n",
    "&nbsp;&nbsp;&nbsp;&nbsp; `OnlineBackup` – подключена ли услуга online backup (Yes, No, No internet service)<br>\n",
    "&nbsp;&nbsp;&nbsp;&nbsp; `DeviceProtection` – есть ли у клиента страховка оборудования (Yes, No, No internet service)<br>\n",
    "&nbsp;&nbsp;&nbsp;&nbsp; `TechSupport` – подключена ли услуга технической поддержки (Yes, No, No internet service)<br>\n",
    "&nbsp;&nbsp;&nbsp;&nbsp; `StreamingTV` – подключена ли услуга стримингового телевидения (Yes, No, No internet service)<br>\n",
    "&nbsp;&nbsp;&nbsp;&nbsp; `StreamingMovies` – подключена ли услуга стримингового кинотеатра (Yes, No, No internet service)<br>\n",
    "&nbsp;&nbsp;&nbsp;&nbsp; `Contract` – тип контракта клиента (Month-to-month, One year, Two year)<br>\n",
    "&nbsp;&nbsp;&nbsp;&nbsp; `PaperlessBilling` – пользуется ли клиент безбумажным биллингом (Yes, No)<br>\n",
    "&nbsp;&nbsp;&nbsp;&nbsp; `PaymentMethod` – метод оплаты (Electronic check, Mailed check, Bank transfer (automatic), Credit card (automatic))<br>\n",
    "&nbsp;&nbsp;&nbsp;&nbsp; `MonthlyCharges` – месячный размер оплаты на настоящий момент<br>\n",
    "&nbsp;&nbsp;&nbsp;&nbsp; `TotalCharges` – общая сумма, которую клиент заплатил за услуги за все время<br>\n",
    "&nbsp;&nbsp;&nbsp;&nbsp; `Churn` – произошел ли отток (Yes or No)<br>"
   ]
  },
  {
   "cell_type": "markdown",
   "metadata": {
    "id": "sIRCLuWGVYR9"
   },
   "source": [
    "# 1. Описание данных"
   ]
  },
  {
   "cell_type": "code",
   "execution_count": 1,
   "metadata": {},
   "outputs": [],
   "source": [
    "#загрузим необходимые библиотеки\n",
    "import pandas as pd\n",
    "import matplotlib.pyplot as plt"
   ]
  },
  {
   "cell_type": "code",
   "execution_count": 6,
   "metadata": {},
   "outputs": [
    {
     "data": {
      "text/html": [
       "<div>\n",
       "<style scoped>\n",
       "    .dataframe tbody tr th:only-of-type {\n",
       "        vertical-align: middle;\n",
       "    }\n",
       "\n",
       "    .dataframe tbody tr th {\n",
       "        vertical-align: top;\n",
       "    }\n",
       "\n",
       "    .dataframe thead th {\n",
       "        text-align: right;\n",
       "    }\n",
       "</style>\n",
       "<table border=\"1\" class=\"dataframe\">\n",
       "  <thead>\n",
       "    <tr style=\"text-align: right;\">\n",
       "      <th></th>\n",
       "      <th>Unnamed: 0</th>\n",
       "      <th>customerID</th>\n",
       "      <th>gender</th>\n",
       "      <th>SeniorCitizen</th>\n",
       "      <th>Partner</th>\n",
       "      <th>Dependents</th>\n",
       "      <th>tenure</th>\n",
       "      <th>PhoneService</th>\n",
       "      <th>MultipleLines</th>\n",
       "      <th>InternetService</th>\n",
       "      <th>...</th>\n",
       "      <th>DeviceProtection</th>\n",
       "      <th>TechSupport</th>\n",
       "      <th>StreamingTV</th>\n",
       "      <th>StreamingMovies</th>\n",
       "      <th>Contract</th>\n",
       "      <th>PaperlessBilling</th>\n",
       "      <th>PaymentMethod</th>\n",
       "      <th>MonthlyCharges</th>\n",
       "      <th>TotalCharges</th>\n",
       "      <th>Churn</th>\n",
       "    </tr>\n",
       "  </thead>\n",
       "  <tbody>\n",
       "    <tr>\n",
       "      <th>0</th>\n",
       "      <td>1869</td>\n",
       "      <td>7010-BRBUU</td>\n",
       "      <td>Male</td>\n",
       "      <td>0</td>\n",
       "      <td>Yes</td>\n",
       "      <td>Yes</td>\n",
       "      <td>72</td>\n",
       "      <td>Yes</td>\n",
       "      <td>Yes</td>\n",
       "      <td>No</td>\n",
       "      <td>...</td>\n",
       "      <td>No internet service</td>\n",
       "      <td>No internet service</td>\n",
       "      <td>No internet service</td>\n",
       "      <td>No internet service</td>\n",
       "      <td>Two year</td>\n",
       "      <td>No</td>\n",
       "      <td>Credit card (automatic)</td>\n",
       "      <td>24.10</td>\n",
       "      <td>1734.65</td>\n",
       "      <td>No</td>\n",
       "    </tr>\n",
       "    <tr>\n",
       "      <th>1</th>\n",
       "      <td>4528</td>\n",
       "      <td>9688-YGXVR</td>\n",
       "      <td>Female</td>\n",
       "      <td>0</td>\n",
       "      <td>No</td>\n",
       "      <td>No</td>\n",
       "      <td>44</td>\n",
       "      <td>Yes</td>\n",
       "      <td>No</td>\n",
       "      <td>Fiber optic</td>\n",
       "      <td>...</td>\n",
       "      <td>Yes</td>\n",
       "      <td>No</td>\n",
       "      <td>Yes</td>\n",
       "      <td>No</td>\n",
       "      <td>Month-to-month</td>\n",
       "      <td>Yes</td>\n",
       "      <td>Credit card (automatic)</td>\n",
       "      <td>88.15</td>\n",
       "      <td>3973.2</td>\n",
       "      <td>No</td>\n",
       "    </tr>\n",
       "    <tr>\n",
       "      <th>2</th>\n",
       "      <td>6344</td>\n",
       "      <td>9286-DOJGF</td>\n",
       "      <td>Female</td>\n",
       "      <td>1</td>\n",
       "      <td>Yes</td>\n",
       "      <td>No</td>\n",
       "      <td>38</td>\n",
       "      <td>Yes</td>\n",
       "      <td>Yes</td>\n",
       "      <td>Fiber optic</td>\n",
       "      <td>...</td>\n",
       "      <td>No</td>\n",
       "      <td>No</td>\n",
       "      <td>No</td>\n",
       "      <td>No</td>\n",
       "      <td>Month-to-month</td>\n",
       "      <td>Yes</td>\n",
       "      <td>Bank transfer (automatic)</td>\n",
       "      <td>74.95</td>\n",
       "      <td>2869.85</td>\n",
       "      <td>Yes</td>\n",
       "    </tr>\n",
       "    <tr>\n",
       "      <th>3</th>\n",
       "      <td>6739</td>\n",
       "      <td>6994-KERXL</td>\n",
       "      <td>Male</td>\n",
       "      <td>0</td>\n",
       "      <td>No</td>\n",
       "      <td>No</td>\n",
       "      <td>4</td>\n",
       "      <td>Yes</td>\n",
       "      <td>No</td>\n",
       "      <td>DSL</td>\n",
       "      <td>...</td>\n",
       "      <td>No</td>\n",
       "      <td>No</td>\n",
       "      <td>No</td>\n",
       "      <td>Yes</td>\n",
       "      <td>Month-to-month</td>\n",
       "      <td>Yes</td>\n",
       "      <td>Electronic check</td>\n",
       "      <td>55.90</td>\n",
       "      <td>238.5</td>\n",
       "      <td>No</td>\n",
       "    </tr>\n",
       "    <tr>\n",
       "      <th>4</th>\n",
       "      <td>432</td>\n",
       "      <td>2181-UAESM</td>\n",
       "      <td>Male</td>\n",
       "      <td>0</td>\n",
       "      <td>No</td>\n",
       "      <td>No</td>\n",
       "      <td>2</td>\n",
       "      <td>Yes</td>\n",
       "      <td>No</td>\n",
       "      <td>DSL</td>\n",
       "      <td>...</td>\n",
       "      <td>Yes</td>\n",
       "      <td>No</td>\n",
       "      <td>No</td>\n",
       "      <td>No</td>\n",
       "      <td>Month-to-month</td>\n",
       "      <td>No</td>\n",
       "      <td>Electronic check</td>\n",
       "      <td>53.45</td>\n",
       "      <td>119.5</td>\n",
       "      <td>No</td>\n",
       "    </tr>\n",
       "  </tbody>\n",
       "</table>\n",
       "<p>5 rows × 22 columns</p>\n",
       "</div>"
      ],
      "text/plain": [
       "   Unnamed: 0  customerID  gender  SeniorCitizen Partner Dependents  tenure  \\\n",
       "0        1869  7010-BRBUU    Male              0     Yes        Yes      72   \n",
       "1        4528  9688-YGXVR  Female              0      No         No      44   \n",
       "2        6344  9286-DOJGF  Female              1     Yes         No      38   \n",
       "3        6739  6994-KERXL    Male              0      No         No       4   \n",
       "4         432  2181-UAESM    Male              0      No         No       2   \n",
       "\n",
       "  PhoneService MultipleLines InternetService  ...     DeviceProtection  \\\n",
       "0          Yes           Yes              No  ...  No internet service   \n",
       "1          Yes            No     Fiber optic  ...                  Yes   \n",
       "2          Yes           Yes     Fiber optic  ...                   No   \n",
       "3          Yes            No             DSL  ...                   No   \n",
       "4          Yes            No             DSL  ...                  Yes   \n",
       "\n",
       "           TechSupport          StreamingTV      StreamingMovies  \\\n",
       "0  No internet service  No internet service  No internet service   \n",
       "1                   No                  Yes                   No   \n",
       "2                   No                   No                   No   \n",
       "3                   No                   No                  Yes   \n",
       "4                   No                   No                   No   \n",
       "\n",
       "         Contract PaperlessBilling              PaymentMethod MonthlyCharges  \\\n",
       "0        Two year               No    Credit card (automatic)          24.10   \n",
       "1  Month-to-month              Yes    Credit card (automatic)          88.15   \n",
       "2  Month-to-month              Yes  Bank transfer (automatic)          74.95   \n",
       "3  Month-to-month              Yes           Electronic check          55.90   \n",
       "4  Month-to-month               No           Electronic check          53.45   \n",
       "\n",
       "  TotalCharges  Churn  \n",
       "0      1734.65     No  \n",
       "1       3973.2     No  \n",
       "2      2869.85    Yes  \n",
       "3        238.5     No  \n",
       "4        119.5     No  \n",
       "\n",
       "[5 rows x 22 columns]"
      ]
     },
     "execution_count": 6,
     "metadata": {},
     "output_type": "execute_result"
    }
   ],
   "source": [
    "#загружаем датасет\n",
    "dataset  =pd.read_csv('telecom_users.csv')\n",
    "\n",
    "#смотрим первые пять строк\n",
    "dataset.head(5)"
   ]
  },
  {
   "cell_type": "code",
   "execution_count": 7,
   "metadata": {
    "id": "s0fDRVkgVYSA",
    "scrolled": false
   },
   "outputs": [
    {
     "name": "stdout",
     "output_type": "stream",
     "text": [
      "<class 'pandas.core.frame.DataFrame'>\n",
      "RangeIndex: 5986 entries, 0 to 5985\n",
      "Data columns (total 22 columns):\n",
      " #   Column            Non-Null Count  Dtype  \n",
      "---  ------            --------------  -----  \n",
      " 0   Unnamed: 0        5986 non-null   int64  \n",
      " 1   customerID        5986 non-null   object \n",
      " 2   gender            5986 non-null   object \n",
      " 3   SeniorCitizen     5986 non-null   int64  \n",
      " 4   Partner           5986 non-null   object \n",
      " 5   Dependents        5986 non-null   object \n",
      " 6   tenure            5986 non-null   int64  \n",
      " 7   PhoneService      5986 non-null   object \n",
      " 8   MultipleLines     5986 non-null   object \n",
      " 9   InternetService   5986 non-null   object \n",
      " 10  OnlineSecurity    5986 non-null   object \n",
      " 11  OnlineBackup      5986 non-null   object \n",
      " 12  DeviceProtection  5986 non-null   object \n",
      " 13  TechSupport       5986 non-null   object \n",
      " 14  StreamingTV       5986 non-null   object \n",
      " 15  StreamingMovies   5986 non-null   object \n",
      " 16  Contract          5986 non-null   object \n",
      " 17  PaperlessBilling  5986 non-null   object \n",
      " 18  PaymentMethod     5986 non-null   object \n",
      " 19  MonthlyCharges    5986 non-null   float64\n",
      " 20  TotalCharges      5986 non-null   object \n",
      " 21  Churn             5986 non-null   object \n",
      "dtypes: float64(1), int64(3), object(18)\n",
      "memory usage: 1.0+ MB\n",
      "None\n",
      "\n",
      "основные характеристики числовых признаков: \n",
      "        Unnamed: 0  SeniorCitizen       tenure  MonthlyCharges\n",
      "count  5986.000000    5986.000000  5986.000000     5986.000000\n",
      "mean   3533.561310       0.161377    32.468760       64.802213\n",
      "std    2035.705666       0.367909    24.516391       30.114702\n",
      "min       0.000000       0.000000     0.000000       18.250000\n",
      "25%    1777.250000       0.000000     9.000000       35.650000\n",
      "50%    3546.500000       0.000000    29.000000       70.400000\n",
      "75%    5291.750000       0.000000    56.000000       89.900000\n",
      "max    7042.000000       1.000000    72.000000      118.750000\n"
     ]
    }
   ],
   "source": [
    "#смотрим есть ли пропущенные значения\n",
    "print(dataset.info())\n",
    "print()\n",
    "\n",
    "#смотрим основные характеристики числовых признаков\n",
    "print('основные характеристики числовых признаков: ')\n",
    "print(dataset.describe())\n"
   ]
  },
  {
   "cell_type": "code",
   "execution_count": 8,
   "metadata": {},
   "outputs": [
    {
     "name": "stdout",
     "output_type": "stream",
     "text": [
      "10\n"
     ]
    }
   ],
   "source": [
    "#столбец totalcharges определен как object,попробуем перевести его в числовой тип\n",
    "#pd.to_numeric(dataset['TotalCharges'])\n",
    "\n",
    "#не получилось - оказывается в столбце есть значения - пробелы.\n",
    "#посмотрим сколько их, заодно сохраним в списке их индексы\n",
    "count = 0\n",
    "list_of_index = []\n",
    "\n",
    "for index, item in enumerate(dataset['TotalCharges']):\n",
    "    \n",
    "    if item == \" \":\n",
    "        list_of_index.append(index)\n",
    "        count += 1\n",
    "        \n",
    "print(count)"
   ]
  },
  {
   "cell_type": "code",
   "execution_count": 9,
   "metadata": {},
   "outputs": [
    {
     "name": "stdout",
     "output_type": "stream",
     "text": [
      "0\n",
      "0\n",
      "0\n",
      "0\n",
      "0\n",
      "0\n",
      "0\n",
      "0\n",
      "0\n",
      "0\n"
     ]
    }
   ],
   "source": [
    "#всего 10 значений, попробуем их заменить на произведение tenure и monthlycharges,\n",
    "#но перед этим проверим значения tenure в этих строках\n",
    "\n",
    "for item in list_of_index:\n",
    "    print(dataset['tenure'][item])\n",
    "\n",
    "#получается в этих строках нулевые значения tenure, поэтому можно удалить эти строки\n",
    "for item in list_of_index:\n",
    "    dataset.drop(labels = [item], axis = 0, inplace = True)"
   ]
  },
  {
   "cell_type": "code",
   "execution_count": 10,
   "metadata": {},
   "outputs": [],
   "source": [
    "#теперь можно сконвертировать тип столбца в числовой\n",
    "dataset['TotalCharges'] = pd.to_numeric(dataset['TotalCharges'])"
   ]
  },
  {
   "cell_type": "code",
   "execution_count": 11,
   "metadata": {},
   "outputs": [
    {
     "data": {
      "text/html": [
       "<div>\n",
       "<style scoped>\n",
       "    .dataframe tbody tr th:only-of-type {\n",
       "        vertical-align: middle;\n",
       "    }\n",
       "\n",
       "    .dataframe tbody tr th {\n",
       "        vertical-align: top;\n",
       "    }\n",
       "\n",
       "    .dataframe thead th {\n",
       "        text-align: right;\n",
       "    }\n",
       "</style>\n",
       "<table border=\"1\" class=\"dataframe\">\n",
       "  <thead>\n",
       "    <tr style=\"text-align: right;\">\n",
       "      <th></th>\n",
       "      <th>Unnamed: 0</th>\n",
       "      <th>SeniorCitizen</th>\n",
       "      <th>tenure</th>\n",
       "      <th>MonthlyCharges</th>\n",
       "      <th>TotalCharges</th>\n",
       "    </tr>\n",
       "  </thead>\n",
       "  <tbody>\n",
       "    <tr>\n",
       "      <th>count</th>\n",
       "      <td>5976.000000</td>\n",
       "      <td>5976.000000</td>\n",
       "      <td>5976.000000</td>\n",
       "      <td>5976.000000</td>\n",
       "      <td>5976.000000</td>\n",
       "    </tr>\n",
       "    <tr>\n",
       "      <th>mean</th>\n",
       "      <td>3534.770750</td>\n",
       "      <td>0.161647</td>\n",
       "      <td>32.523092</td>\n",
       "      <td>64.846687</td>\n",
       "      <td>2298.060617</td>\n",
       "    </tr>\n",
       "    <tr>\n",
       "      <th>std</th>\n",
       "      <td>2035.409858</td>\n",
       "      <td>0.368157</td>\n",
       "      <td>24.500858</td>\n",
       "      <td>30.107576</td>\n",
       "      <td>2274.127165</td>\n",
       "    </tr>\n",
       "    <tr>\n",
       "      <th>min</th>\n",
       "      <td>0.000000</td>\n",
       "      <td>0.000000</td>\n",
       "      <td>1.000000</td>\n",
       "      <td>18.250000</td>\n",
       "      <td>18.800000</td>\n",
       "    </tr>\n",
       "    <tr>\n",
       "      <th>25%</th>\n",
       "      <td>1779.750000</td>\n",
       "      <td>0.000000</td>\n",
       "      <td>9.000000</td>\n",
       "      <td>35.750000</td>\n",
       "      <td>404.312500</td>\n",
       "    </tr>\n",
       "    <tr>\n",
       "      <th>50%</th>\n",
       "      <td>3548.000000</td>\n",
       "      <td>0.000000</td>\n",
       "      <td>29.000000</td>\n",
       "      <td>70.425000</td>\n",
       "      <td>1412.150000</td>\n",
       "    </tr>\n",
       "    <tr>\n",
       "      <th>75%</th>\n",
       "      <td>5293.500000</td>\n",
       "      <td>0.000000</td>\n",
       "      <td>56.000000</td>\n",
       "      <td>89.900000</td>\n",
       "      <td>3846.962500</td>\n",
       "    </tr>\n",
       "    <tr>\n",
       "      <th>max</th>\n",
       "      <td>7042.000000</td>\n",
       "      <td>1.000000</td>\n",
       "      <td>72.000000</td>\n",
       "      <td>118.750000</td>\n",
       "      <td>8684.800000</td>\n",
       "    </tr>\n",
       "  </tbody>\n",
       "</table>\n",
       "</div>"
      ],
      "text/plain": [
       "        Unnamed: 0  SeniorCitizen       tenure  MonthlyCharges  TotalCharges\n",
       "count  5976.000000    5976.000000  5976.000000     5976.000000   5976.000000\n",
       "mean   3534.770750       0.161647    32.523092       64.846687   2298.060617\n",
       "std    2035.409858       0.368157    24.500858       30.107576   2274.127165\n",
       "min       0.000000       0.000000     1.000000       18.250000     18.800000\n",
       "25%    1779.750000       0.000000     9.000000       35.750000    404.312500\n",
       "50%    3548.000000       0.000000    29.000000       70.425000   1412.150000\n",
       "75%    5293.500000       0.000000    56.000000       89.900000   3846.962500\n",
       "max    7042.000000       1.000000    72.000000      118.750000   8684.800000"
      ]
     },
     "execution_count": 11,
     "metadata": {},
     "output_type": "execute_result"
    }
   ],
   "source": [
    "#для проверки выведем заново характеристики числовых признаков\n",
    "dataset.describe()"
   ]
  },
  {
   "cell_type": "code",
   "execution_count": 12,
   "metadata": {},
   "outputs": [
    {
     "data": {
      "image/png": "[encoded data removed]",
      "text/plain": [
       "<Figure size 864x432 with 1 Axes>"
      ]
     },
     "metadata": {
      "needs_background": "light"
     },
     "output_type": "display_data"
    }
   ],
   "source": [
    "#посмотрим на распределение числовых признаков\n",
    "#(кроме SeniorCitizen - это категориальный признак, так как принимает только два значения 0 и 1)\n",
    "list_of_names = ['Unnamed: 0', 'tenure', 'MonthlyCharges', 'TotalCharges']\n",
    "#признак unnamed\n",
    "fig, ax = plt.subplots(figsize = (12, 6))\n",
    "\n",
    "ax.hist(dataset['Unnamed: 0'])\n",
    "ax.set_title('Unnamed')\n",
    "plt.show()"
   ]
  },
  {
   "cell_type": "code",
   "execution_count": 13,
   "metadata": {},
   "outputs": [
    {
     "data": {
      "image/png": "[encoded data removed]",
      "text/plain": [
       "<Figure size 864x432 with 1 Axes>"
      ]
     },
     "metadata": {
      "needs_background": "light"
     },
     "output_type": "display_data"
    }
   ],
   "source": [
    "#признак tenure\n",
    "\n",
    "fig, ax = plt.subplots(figsize = (12, 6))\n",
    "\n",
    "ax.hist(dataset['tenure'])\n",
    "ax.set_title('tenure')\n",
    "plt.show()"
   ]
  },
  {
   "cell_type": "code",
   "execution_count": 14,
   "metadata": {},
   "outputs": [
    {
     "data": {
      "image/png": "[encoded data removed]",
      "text/plain": [
       "<Figure size 864x432 with 1 Axes>"
      ]
     },
     "metadata": {
      "needs_background": "light"
     },
     "output_type": "display_data"
    }
   ],
   "source": [
    "#признак MonthlyCharges\n",
    "\n",
    "fig, ax = plt.subplots(figsize = (12, 6))\n",
    "\n",
    "ax.hist(dataset['MonthlyCharges'])\n",
    "ax.set_title('MonthlyCharges')\n",
    "plt.show()"
   ]
  },
  {
   "cell_type": "code",
   "execution_count": 15,
   "metadata": {},
   "outputs": [
    {
     "data": {
      "image/png": "[encoded data removed]",
      "text/plain": [
       "<Figure size 864x432 with 1 Axes>"
      ]
     },
     "metadata": {
      "needs_background": "light"
     },
     "output_type": "display_data"
    }
   ],
   "source": [
    "#признак TotalCharges\n",
    "\n",
    "fig, ax = plt.subplots(figsize = (12, 6))\n",
    "\n",
    "ax.hist(dataset['TotalCharges'])\n",
    "ax.set_title('TotalCharges')\n",
    "plt.show()"
   ]
  },
  {
   "cell_type": "code",
   "execution_count": 16,
   "metadata": {},
   "outputs": [
    {
     "data": {
      "text/plain": [
       "No     4389\n",
       "Yes    1587\n",
       "Name: Churn, dtype: int64"
      ]
     },
     "execution_count": 16,
     "metadata": {},
     "output_type": "execute_result"
    }
   ],
   "source": [
    "#и наконец проверим есть ли смещение в целевой переменной, для этого выведем количество значений 0 и 1\n",
    "\n",
    "dataset['Churn'].value_counts()"
   ]
  },
  {
   "cell_type": "markdown",
   "metadata": {},
   "source": [
    "На этом считаю описание данных завершенным. Все признаки описаны, пропущенные значения проверены, выведены основные характеристики числовых признаков. Поправлен один числовой признак.\n",
    "числовые признаки:\n",
    "- всего четыре числовых признака (SeniorCitizen - квтегориальный, так как принимаем только два значения 0 и 1). Значение одного не определено (Unnamed: 0), но мы его пока оставим - возможно обнаружится интересная зависимость\n",
    "- масштаб этих признаков разный, нужно будет иметь ввиду при конструировании моделей.\n",
    "- у всех числовых признаков (кроме unnamed) неравномерное распределение\n",
    "- у целевой переменной присутствует смещение в сторону положительных значений (считаем - если отток не произошел - то это положительное значение)"
   ]
  },
  {
   "cell_type": "markdown",
   "metadata": {
    "id": "TDUhZEKyVYSN"
   },
   "source": [
    "# 2. Исследование зависимостей и формулирование гипотез"
   ]
  },
  {
   "cell_type": "markdown",
   "metadata": {},
   "source": [
    "Вывод гипотез здесь сводится к тому - что мы ищем зависимости целевой переменной от одного или нескольких признаков. Поэтому сначала займемся поиском зависимостей."
   ]
  },
  {
   "cell_type": "code",
   "execution_count": 17,
   "metadata": {
    "id": "lbekxt4hVYSQ"
   },
   "outputs": [],
   "source": [
    "#для начала закодируем категориальные переменные\n",
    "#первые - это переменные где есть только yes и no (yes - 1 и no - 0)\n",
    "\n",
    "#создадим словарь для замены и словарь признаков которые имеют значения yes, no\n",
    "help_dict_1 = {'Yes':1, 'No':0}\n",
    "list_cat_replace_1 = ['Partner', 'Dependents', 'PhoneService', 'PaperlessBilling', 'Churn']\n",
    "\n",
    "#в цикле произведем замену значений\n",
    "for item in list_cat_replace_1:\n",
    "    dataset[item] = dataset[item].replace(help_dict_1)"
   ]
  },
  {
   "cell_type": "code",
   "execution_count": 18,
   "metadata": {},
   "outputs": [],
   "source": [
    "#вторые - это переменные где есть Yes, No, No internet (phone) service\n",
    "#No service - 0, No - 1, Yes - 2\n",
    "\n",
    "#создадим словарь для замены и словарь признаков которые имеют значения yes, no, no service\n",
    "help_dict_2 = {'Yes':1, 'No':0, 'No internet service':0, 'No phone service':0}\n",
    "list_cat_replace_2 = ['MultipleLines', 'OnlineSecurity', 'OnlineBackup', 'DeviceProtection', 'TechSupport', 'StreamingTV','StreamingMovies']\n",
    "\n",
    "#в цикле произведем замену значений\n",
    "for item in list_cat_replace_2:\n",
    "    dataset[item] = dataset[item].replace(help_dict_2)"
   ]
  },
  {
   "cell_type": "code",
   "execution_count": 19,
   "metadata": {},
   "outputs": [
    {
     "name": "stdout",
     "output_type": "stream",
     "text": [
      "Корреляция с признаком Churn\n",
      "признак Partner коэффициент =  -0.14637793294187332\n",
      "признак Dependents коэффициент =  -0.15902541407347548\n",
      "признак PhoneService коэффициент =  0.009096608613508202\n",
      "признак PaperlessBilling коэффициент =  0.1886533920576765\n",
      "признак Churn коэффициент =  1.0\n",
      "признак SeniorCitizen коэффициент =  0.1497255770544582\n"
     ]
    }
   ],
   "source": [
    "#так как мы проверяем зависимость категориальных переменных, будем использовать коэфф корреляции Метью и V Крамера\n",
    "\n",
    "#для определения статической зависимости между бинарными признаками напишем для удобства вывода функцию\n",
    "from sklearn.metrics import matthews_corrcoef\n",
    "\n",
    "def Matthews(list_features, key_feature):\n",
    "    print('Корреляция с признаком', key_feature.name)\n",
    "    for item in list_features:\n",
    "        coeff = matthews_corrcoef(key_feature, dataset[item])\n",
    "        print('признак', item, 'коэффициент = ', coeff)\n",
    "        \n",
    "#добавим в список также признак является пенсионером или нет\n",
    "list_cat_replace_1.append('SeniorCitizen')\n",
    "        \n",
    "Matthews(list_cat_replace_1, dataset['Churn'])"
   ]
  },
  {
   "cell_type": "code",
   "execution_count": 20,
   "metadata": {},
   "outputs": [
    {
     "name": "stdout",
     "output_type": "stream",
     "text": [
      "MultipleLines  -  0.03332159109426941\n",
      "OnlineSecurity  -  0.17339361785591897\n",
      "OnlineBackup  -  0.08142905277322887\n",
      "DeviceProtection  -  0.06856527148266402\n",
      "TechSupport  -  0.1610625797618917\n",
      "StreamingTV  -  0.05846839861557846\n",
      "StreamingMovies  -  0.056473225717279016\n"
     ]
    }
   ],
   "source": [
    "#для других категориальных признаков используем V Крамера\n",
    "#для этого нам нужно получить таблицу сопряженности confusion matrix\n",
    "confusion_matrix = dataset.groupby(['Churn', 'MultipleLines'])['Churn'].count().unstack()\n",
    "\n",
    "\n",
    "#теперь создадим функцию для расчета коэффициента V Крамера\n",
    "import scipy.stats as ss\n",
    "import numpy as np\n",
    "\n",
    "def cramers_corrected_stat(confusion_matrix):\n",
    "    \n",
    "    chi2 = ss.chi2_contingency(confusion_matrix)[0]\n",
    "    n = confusion_matrix.sum().sum()\n",
    "    phi2 = chi2/n\n",
    "    r,k = confusion_matrix.shape\n",
    "    phi2corr = max(0, phi2 - ((k-1)*(r-1))/(n-1))    \n",
    "    rcorr = r - ((r-1)**2)/(n-1)\n",
    "    kcorr = k - ((k-1)**2)/(n-1)\n",
    "    return np.sqrt(phi2corr / min( (kcorr-1), (rcorr-1)))\n",
    "\n",
    "\n",
    "for item in list_cat_replace_2:\n",
    "    confusion_matrix = dataset.groupby(['Churn', item])['Churn'].count().unstack()\n",
    "    coeff_2 = cramers_corrected_stat(confusion_matrix)\n",
    "    print(item, ' - ', coeff_2)\n"
   ]
  },
  {
   "cell_type": "markdown",
   "metadata": {},
   "source": [
    "Как мы видим ни в первом ни во втором случае не видно ярко выраженных зависимостей. Это значит - что нет никакой зависимости от отдельно подключенных услуг.\n",
    "Теперь посмотрим - есть ли зависимость по половому признаку (хоть это и нонсенс - но тем не менее стоит проверить)"
   ]
  },
  {
   "cell_type": "code",
   "execution_count": 21,
   "metadata": {},
   "outputs": [
    {
     "data": {
      "image/png": "[encoded data removed]",
      "text/plain": [
       "<Figure size 432x432 with 1 Axes>"
      ]
     },
     "metadata": {
      "needs_background": "light"
     },
     "output_type": "display_data"
    }
   ],
   "source": [
    "df_male = dataset[dataset['gender'] == 'Male']\n",
    "df_female = dataset[dataset['gender'] == 'Female']\n",
    "\n",
    "fig, ax = plt.subplots(figsize=(6,6))\n",
    "\n",
    "ax.hist(df_male['Churn'], label = 'Male', align = 'left')\n",
    "ax.hist(df_female['Churn'], label = 'Female',align = 'right')\n",
    "plt.legend()\n",
    "plt.show()"
   ]
  },
  {
   "cell_type": "markdown",
   "metadata": {},
   "source": [
    "здесь одна пара столбцов - это при churn = 0, и другая пара - churn = 1. Как мы видим и там и там практически поровну. Поэтому здесь мы также зависимость не нашли.\n",
    "Теперь посмотрим на сроки (в месяцах) когда уходят клиенты."
   ]
  },
  {
   "cell_type": "code",
   "execution_count": 22,
   "metadata": {},
   "outputs": [],
   "source": [
    "#создадим для удобства исследования два dataframe один с churn = 0 и другой с churn = 1\n",
    "\n",
    "df_churn = dataset[dataset['Churn'] == 1]\n",
    "df_no_churn = dataset[dataset['Churn'] == 0]"
   ]
  },
  {
   "cell_type": "code",
   "execution_count": 23,
   "metadata": {},
   "outputs": [
    {
     "data": {
      "text/plain": [
       "72"
      ]
     },
     "execution_count": 23,
     "metadata": {},
     "output_type": "execute_result"
    },
    {
     "data": {
      "image/png": "[encoded data removed]",
      "text/plain": [
       "<Figure size 432x288 with 1 Axes>"
      ]
     },
     "metadata": {
      "needs_background": "light"
     },
     "output_type": "display_data"
    }
   ],
   "source": [
    "plt.hist(df_churn['tenure'], bins = 10)\n",
    "plt.title('Гистограмма распределения количества ушедших клиентов по количеству месяцев контракта')\n",
    "plt.xlabel('кол-во месяцев')\n",
    "plt.ylabel('кол-во клиентов')\n",
    "\n",
    "bin_width = df_churn['tenure'].max() / 10\n",
    "\n",
    "x_range = [i * bin_width for i in range(11)]\n",
    "\n",
    "plt.xticks(x_range);\n",
    "\n",
    "df_churn['tenure'].max()"
   ]
  },
  {
   "cell_type": "markdown",
   "metadata": {},
   "source": [
    "здесь уже видно - что уходят в основном в начале контракта. И подавляющее большинство уходит на сроке до 7 месяцев. Это же подтверждается типом контракта - в основном уходят заключившие контракт: month-to-month"
   ]
  },
  {
   "cell_type": "code",
   "execution_count": 24,
   "metadata": {},
   "outputs": [
    {
     "data": {
      "image/png": "[encoded data removed]",
      "text/plain": [
       "<Figure size 864x432 with 1 Axes>"
      ]
     },
     "metadata": {
      "needs_background": "light"
     },
     "output_type": "display_data"
    }
   ],
   "source": [
    "fig, ax = plt.subplots(figsize=(12,6))\n",
    "\n",
    "ax.hist(df_churn['Contract'])\n",
    "ax.set_title('Churn')\n",
    "\n",
    "plt.show()"
   ]
  },
  {
   "cell_type": "markdown",
   "metadata": {},
   "source": [
    "теперь интересно посмотреть - сколько было подключенных услуг у разных клиентов. Создадим новый признак - количество подключенных услуг. Всего у нас 9 услуг"
   ]
  },
  {
   "cell_type": "code",
   "execution_count": 25,
   "metadata": {},
   "outputs": [],
   "source": [
    "#создаем новый признак Summ\n",
    "dataset['Summ'] = dataset['PhoneService'] + dataset['MultipleLines'] + dataset['OnlineSecurity']\\\n",
    "                + dataset['OnlineBackup'] + dataset['DeviceProtection'] + dataset['TechSupport']\\\n",
    "                + dataset['StreamingTV'] + dataset['StreamingMovies'] + dataset['PaperlessBilling']\n",
    "\n",
    "#переопределим наши датасеты churn и no_churn\n",
    "df_churn = dataset[dataset['Churn'] == 1]\n",
    "df_no_churn = dataset[dataset['Churn'] == 0]"
   ]
  },
  {
   "cell_type": "code",
   "execution_count": 26,
   "metadata": {},
   "outputs": [
    {
     "data": {
      "image/png": "[encoded data removed]",
      "text/plain": [
       "<Figure size 432x432 with 2 Axes>"
      ]
     },
     "metadata": {
      "needs_background": "light"
     },
     "output_type": "display_data"
    }
   ],
   "source": [
    "#теперь посмотрим, сколько было подключенных услуг у ушедших и неушедших клиентов\n",
    "fig, ax = plt.subplots(figsize=(6,6), ncols = 1, nrows = 2)\n",
    "\n",
    "ax[0].hist(df_churn['Summ'])\n",
    "ax[1].hist(df_no_churn['Summ'])\n",
    "ax[0].set_title('Churn')\n",
    "ax[1].set_title('no Churn')\n",
    "plt.show()"
   ]
  },
  {
   "cell_type": "markdown",
   "metadata": {},
   "source": [
    "в этом случае - также прослеживается зависимость. У оставшихся клиентов - больше клиентов у которых меньше 4 услуг подключено. Больше всего клиентов ушло - у которых было подключено 3 услуги."
   ]
  },
  {
   "cell_type": "markdown",
   "metadata": {},
   "source": [
    "также интересно посмотреть - сколько клиентов ушло - которые в браке и у них есть иждивенцы. Для этого создадим еще один признак - family"
   ]
  },
  {
   "cell_type": "code",
   "execution_count": 27,
   "metadata": {},
   "outputs": [
    {
     "data": {
      "image/png": "[encoded data removed]",
      "text/plain": [
       "<Figure size 432x288 with 1 Axes>"
      ]
     },
     "metadata": {
      "needs_background": "light"
     },
     "output_type": "display_data"
    }
   ],
   "source": [
    "dataset['family'] = dataset['Partner'] + dataset['Dependents']\n",
    "\n",
    "#снова переопределим датасеты churn и no_churn\n",
    "\n",
    "df_churn = dataset[dataset['Churn'] == 1]\n",
    "df_no_churn = dataset[dataset['Churn'] == 0]\n",
    "\n",
    "#и построим гистограмму\n",
    "\n",
    "plt.hist(df_churn['family'])\n",
    "plt.title('churn')\n",
    "plt.xlabel('status (2 - partner + dependendents)')\n",
    "plt.ylabel('кол-во клиентов')\n",
    "plt.show()"
   ]
  },
  {
   "cell_type": "code",
   "execution_count": 28,
   "metadata": {},
   "outputs": [
    {
     "data": {
      "image/png": "[encoded data removed]",
      "text/plain": [
       "<Figure size 432x288 with 1 Axes>"
      ]
     },
     "metadata": {
      "needs_background": "light"
     },
     "output_type": "display_data"
    }
   ],
   "source": [
    "plt.hist(df_no_churn['family'])\n",
    "plt.title('no_churn')\n",
    "plt.xlabel('status (2 - partner + dependendents)')\n",
    "plt.ylabel('кол-во клиентов')\n",
    "plt.show()"
   ]
  },
  {
   "cell_type": "markdown",
   "metadata": {},
   "source": [
    "и здесь у нас прослеживается зависимость. В признаке family: 2 - семейные люди (в браке и есть иждивенцы). Получается, что больше шансов остаться семейному человеку, те кто не в браке и нет иждивенцев (в признаке family - 1) - больше уходят. Возможно это объясняется тем, что у семейных людей больше других забот - нежели думать у какой компании подешевле услуги.\n",
    "\n",
    "Считаю исследование зависимостей законченным. На данном этапе можем сформулировать гипотезу: образ клиента, который потенциально может уйти.\n",
    "\n",
    " - уход клиента не зависит от какой либо отдельной услуги\n",
    " - в основном уходят в начале контракта (стоит обращать повышенное внимание на клиентов до 7 -8 месячного срока контракта)\n",
    " - у ушедших, в основном, было подключено 2 -3 услуги\n",
    " - больше уходит не семейных людей (которые не в браке и у них нет иждивенцев)."
   ]
  },
  {
   "cell_type": "markdown",
   "metadata": {
    "id": "YnZrI40dVYSZ"
   },
   "source": [
    "# 3. Построение моделей для прогнозирования оттока"
   ]
  },
  {
   "cell_type": "markdown",
   "metadata": {},
   "source": [
    "В наших моделях будем использовать два датасета: один со всеми признаками, второй без признаков - услуги (минус 9 признаков)."
   ]
  },
  {
   "cell_type": "code",
   "execution_count": 29,
   "metadata": {},
   "outputs": [],
   "source": [
    "import warnings\n",
    "warnings.filterwarnings('ignore')"
   ]
  },
  {
   "cell_type": "code",
   "execution_count": 30,
   "metadata": {},
   "outputs": [],
   "source": [
    "#для начала выделим отдельно целевой признак\n",
    "\n",
    "dataset_target = dataset['Churn']\n",
    "dataset.drop(['Churn'], axis = 1, inplace = True)"
   ]
  },
  {
   "cell_type": "code",
   "execution_count": 31,
   "metadata": {
    "scrolled": false
   },
   "outputs": [
    {
     "data": {
      "text/html": [
       "<div>\n",
       "<style scoped>\n",
       "    .dataframe tbody tr th:only-of-type {\n",
       "        vertical-align: middle;\n",
       "    }\n",
       "\n",
       "    .dataframe tbody tr th {\n",
       "        vertical-align: top;\n",
       "    }\n",
       "\n",
       "    .dataframe thead th {\n",
       "        text-align: right;\n",
       "    }\n",
       "</style>\n",
       "<table border=\"1\" class=\"dataframe\">\n",
       "  <thead>\n",
       "    <tr style=\"text-align: right;\">\n",
       "      <th></th>\n",
       "      <th>Unnamed: 0</th>\n",
       "      <th>SeniorCitizen</th>\n",
       "      <th>Partner</th>\n",
       "      <th>Dependents</th>\n",
       "      <th>tenure</th>\n",
       "      <th>PhoneService</th>\n",
       "      <th>MultipleLines</th>\n",
       "      <th>OnlineSecurity</th>\n",
       "      <th>OnlineBackup</th>\n",
       "      <th>DeviceProtection</th>\n",
       "      <th>...</th>\n",
       "      <th>service_DSL</th>\n",
       "      <th>service_Fiber optic</th>\n",
       "      <th>service_No</th>\n",
       "      <th>contract_Month-to-month</th>\n",
       "      <th>contract_One year</th>\n",
       "      <th>contract_Two year</th>\n",
       "      <th>payment_Bank transfer (automatic)</th>\n",
       "      <th>payment_Credit card (automatic)</th>\n",
       "      <th>payment_Electronic check</th>\n",
       "      <th>payment_Mailed check</th>\n",
       "    </tr>\n",
       "  </thead>\n",
       "  <tbody>\n",
       "    <tr>\n",
       "      <th>0</th>\n",
       "      <td>1869</td>\n",
       "      <td>0</td>\n",
       "      <td>1</td>\n",
       "      <td>1</td>\n",
       "      <td>72</td>\n",
       "      <td>1</td>\n",
       "      <td>1</td>\n",
       "      <td>0</td>\n",
       "      <td>0</td>\n",
       "      <td>0</td>\n",
       "      <td>...</td>\n",
       "      <td>0</td>\n",
       "      <td>0</td>\n",
       "      <td>1</td>\n",
       "      <td>0</td>\n",
       "      <td>0</td>\n",
       "      <td>1</td>\n",
       "      <td>0</td>\n",
       "      <td>1</td>\n",
       "      <td>0</td>\n",
       "      <td>0</td>\n",
       "    </tr>\n",
       "    <tr>\n",
       "      <th>1</th>\n",
       "      <td>4528</td>\n",
       "      <td>0</td>\n",
       "      <td>0</td>\n",
       "      <td>0</td>\n",
       "      <td>44</td>\n",
       "      <td>1</td>\n",
       "      <td>0</td>\n",
       "      <td>0</td>\n",
       "      <td>1</td>\n",
       "      <td>1</td>\n",
       "      <td>...</td>\n",
       "      <td>0</td>\n",
       "      <td>1</td>\n",
       "      <td>0</td>\n",
       "      <td>1</td>\n",
       "      <td>0</td>\n",
       "      <td>0</td>\n",
       "      <td>0</td>\n",
       "      <td>1</td>\n",
       "      <td>0</td>\n",
       "      <td>0</td>\n",
       "    </tr>\n",
       "    <tr>\n",
       "      <th>2</th>\n",
       "      <td>6344</td>\n",
       "      <td>1</td>\n",
       "      <td>1</td>\n",
       "      <td>0</td>\n",
       "      <td>38</td>\n",
       "      <td>1</td>\n",
       "      <td>1</td>\n",
       "      <td>0</td>\n",
       "      <td>0</td>\n",
       "      <td>0</td>\n",
       "      <td>...</td>\n",
       "      <td>0</td>\n",
       "      <td>1</td>\n",
       "      <td>0</td>\n",
       "      <td>1</td>\n",
       "      <td>0</td>\n",
       "      <td>0</td>\n",
       "      <td>1</td>\n",
       "      <td>0</td>\n",
       "      <td>0</td>\n",
       "      <td>0</td>\n",
       "    </tr>\n",
       "    <tr>\n",
       "      <th>3</th>\n",
       "      <td>6739</td>\n",
       "      <td>0</td>\n",
       "      <td>0</td>\n",
       "      <td>0</td>\n",
       "      <td>4</td>\n",
       "      <td>1</td>\n",
       "      <td>0</td>\n",
       "      <td>0</td>\n",
       "      <td>0</td>\n",
       "      <td>0</td>\n",
       "      <td>...</td>\n",
       "      <td>1</td>\n",
       "      <td>0</td>\n",
       "      <td>0</td>\n",
       "      <td>1</td>\n",
       "      <td>0</td>\n",
       "      <td>0</td>\n",
       "      <td>0</td>\n",
       "      <td>0</td>\n",
       "      <td>1</td>\n",
       "      <td>0</td>\n",
       "    </tr>\n",
       "    <tr>\n",
       "      <th>4</th>\n",
       "      <td>432</td>\n",
       "      <td>0</td>\n",
       "      <td>0</td>\n",
       "      <td>0</td>\n",
       "      <td>2</td>\n",
       "      <td>1</td>\n",
       "      <td>0</td>\n",
       "      <td>1</td>\n",
       "      <td>0</td>\n",
       "      <td>1</td>\n",
       "      <td>...</td>\n",
       "      <td>1</td>\n",
       "      <td>0</td>\n",
       "      <td>0</td>\n",
       "      <td>1</td>\n",
       "      <td>0</td>\n",
       "      <td>0</td>\n",
       "      <td>0</td>\n",
       "      <td>0</td>\n",
       "      <td>1</td>\n",
       "      <td>0</td>\n",
       "    </tr>\n",
       "  </tbody>\n",
       "</table>\n",
       "<p>5 rows × 30 columns</p>\n",
       "</div>"
      ],
      "text/plain": [
       "   Unnamed: 0  SeniorCitizen  Partner  Dependents  tenure  PhoneService  \\\n",
       "0        1869              0        1           1      72             1   \n",
       "1        4528              0        0           0      44             1   \n",
       "2        6344              1        1           0      38             1   \n",
       "3        6739              0        0           0       4             1   \n",
       "4         432              0        0           0       2             1   \n",
       "\n",
       "   MultipleLines  OnlineSecurity  OnlineBackup  DeviceProtection  ...  \\\n",
       "0              1               0             0                 0  ...   \n",
       "1              0               0             1                 1  ...   \n",
       "2              1               0             0                 0  ...   \n",
       "3              0               0             0                 0  ...   \n",
       "4              0               1             0                 1  ...   \n",
       "\n",
       "   service_DSL  service_Fiber optic  service_No  contract_Month-to-month  \\\n",
       "0            0                    0           1                        0   \n",
       "1            0                    1           0                        1   \n",
       "2            0                    1           0                        1   \n",
       "3            1                    0           0                        1   \n",
       "4            1                    0           0                        1   \n",
       "\n",
       "   contract_One year  contract_Two year  payment_Bank transfer (automatic)  \\\n",
       "0                  0                  1                                  0   \n",
       "1                  0                  0                                  0   \n",
       "2                  0                  0                                  1   \n",
       "3                  0                  0                                  0   \n",
       "4                  0                  0                                  0   \n",
       "\n",
       "   payment_Credit card (automatic)  payment_Electronic check  \\\n",
       "0                                1                         0   \n",
       "1                                1                         0   \n",
       "2                                0                         0   \n",
       "3                                0                         1   \n",
       "4                                0                         1   \n",
       "\n",
       "   payment_Mailed check  \n",
       "0                     0  \n",
       "1                     0  \n",
       "2                     0  \n",
       "3                     0  \n",
       "4                     0  \n",
       "\n",
       "[5 rows x 30 columns]"
      ]
     },
     "execution_count": 31,
     "metadata": {},
     "output_type": "execute_result"
    }
   ],
   "source": [
    "#готовим датасет для моделей, для этого закодируем оставшиеся категориальные признаки\n",
    "#будем использовать get_dummies так как у нас несколько таких признаков (и у признаков равновесные значения) - чтобы потом было удобно читать столбцы\n",
    "dum_df = pd.get_dummies(dataset, columns=['gender', 'InternetService', 'Contract', 'PaymentMethod'],\\\n",
    "                                 prefix=['gender', 'service', 'contract', 'payment'] )\n",
    "\n",
    "#создаем новый датасет (так как при исправлении ошибок, при повторном прогоне кода - выскочит ошибка повторных столбцов)\n",
    "dataset_changed = dataset.merge(dum_df)\n",
    "\n",
    "#и уберем теперь лишние столбцы (заодно уберем customerID - он нам не понадобится)\n",
    "dataset_changed.drop(['gender', 'InternetService', 'Contract', 'PaymentMethod', 'customerID'], axis = 1, inplace = True)\n",
    "\n",
    "dataset_changed.head()"
   ]
  },
  {
   "cell_type": "code",
   "execution_count": 32,
   "metadata": {},
   "outputs": [
    {
     "name": "stdout",
     "output_type": "stream",
     "text": [
      "<class 'pandas.core.frame.DataFrame'>\n",
      "Int64Index: 5976 entries, 0 to 5975\n",
      "Data columns (total 21 columns):\n",
      " #   Column                             Non-Null Count  Dtype  \n",
      "---  ------                             --------------  -----  \n",
      " 0   Unnamed: 0                         5976 non-null   int64  \n",
      " 1   SeniorCitizen                      5976 non-null   int64  \n",
      " 2   Partner                            5976 non-null   int64  \n",
      " 3   Dependents                         5976 non-null   int64  \n",
      " 4   tenure                             5976 non-null   int64  \n",
      " 5   MonthlyCharges                     5976 non-null   float64\n",
      " 6   TotalCharges                       5976 non-null   float64\n",
      " 7   Summ                               5976 non-null   int64  \n",
      " 8   family                             5976 non-null   int64  \n",
      " 9   gender_Female                      5976 non-null   uint8  \n",
      " 10  gender_Male                        5976 non-null   uint8  \n",
      " 11  service_DSL                        5976 non-null   uint8  \n",
      " 12  service_Fiber optic                5976 non-null   uint8  \n",
      " 13  service_No                         5976 non-null   uint8  \n",
      " 14  contract_Month-to-month            5976 non-null   uint8  \n",
      " 15  contract_One year                  5976 non-null   uint8  \n",
      " 16  contract_Two year                  5976 non-null   uint8  \n",
      " 17  payment_Bank transfer (automatic)  5976 non-null   uint8  \n",
      " 18  payment_Credit card (automatic)    5976 non-null   uint8  \n",
      " 19  payment_Electronic check           5976 non-null   uint8  \n",
      " 20  payment_Mailed check               5976 non-null   uint8  \n",
      "dtypes: float64(2), int64(7), uint8(12)\n",
      "memory usage: 536.9 KB\n"
     ]
    }
   ],
   "source": [
    "#создадим второй датасет, без признаков - услуги\n",
    "dataset_changed_no_service = dataset_changed.drop(['PhoneService', 'MultipleLines', 'OnlineSecurity',\\\n",
    "                                   'OnlineBackup', 'DeviceProtection', 'TechSupport',\\\n",
    "                                   'StreamingTV', 'StreamingMovies', 'PaperlessBilling'], axis = 1)\n",
    "\n",
    "dataset_changed_no_service.info()"
   ]
  },
  {
   "cell_type": "code",
   "execution_count": 33,
   "metadata": {},
   "outputs": [],
   "source": [
    "#также нам нужен датасет без сконструированных признаков (Summ, family)\n",
    "\n",
    "original_dataset_changed = dataset_changed.drop(['Summ', 'family'], axis = 1)"
   ]
  },
  {
   "cell_type": "code",
   "execution_count": 34,
   "metadata": {},
   "outputs": [],
   "source": [
    "#импортируем все библиотеки которые нам нужны (модели и матрики)\n",
    "from sklearn.neighbors import KNeighborsClassifier\n",
    "from sklearn.model_selection import train_test_split\n",
    "from sklearn.metrics import roc_auc_score, roc_curve\n",
    "from sklearn.metrics import confusion_matrix, ConfusionMatrixDisplay\n",
    "from sklearn.linear_model import LogisticRegressionCV, LogisticRegression\n",
    "from sklearn.naive_bayes import GaussianNB\n",
    "from sklearn.tree import DecisionTreeClassifier\n"
   ]
  },
  {
   "cell_type": "code",
   "execution_count": 35,
   "metadata": {},
   "outputs": [],
   "source": [
    "#пробуем написать функцию для автоматизации процесса проверки моделей\n",
    "\n",
    "def ModelCheck(dataset, dataset_target, model):\n",
    "    \n",
    "    #делим датасет\n",
    "    x_train, x_test, y_train, y_test = train_test_split(dataset, \n",
    "                                                    dataset_target,\n",
    "                                                    random_state=0)\n",
    "    #тренируем модель\n",
    "    model_check = model().fit(x_train, y_train)\n",
    "    \n",
    "    #делаем предсказания\n",
    "    model_check_prediction = model_check.predict(x_test)\n",
    "    \n",
    "    #хотелось бы еще посмотреть на confusion matrix\n",
    "    cm = confusion_matrix(y_test, model_check_prediction, labels=model_check.classes_)\n",
    "    disp = ConfusionMatrixDisplay(confusion_matrix=cm,display_labels=model_check.classes_)\n",
    "    disp.plot()\n",
    "    plt.title(str(model) + ' ' + get_df_name(dataset))\n",
    "    plt.show()\n",
    "    \n",
    "    #определяем predict_probas и roc_auc_score\n",
    "    probas = model_check.predict_proba(x_test)\n",
    "    auc = roc_auc_score(y_test, probas[:, 1])\n",
    "    \n",
    "    return auc\n",
    "\n",
    "#нам еще понадобится функция для получения названия датасета\n",
    "def get_df_name(df):\n",
    "    name =[x for x in globals() if globals()[x] is df][0]\n",
    "    return name"
   ]
  },
  {
   "cell_type": "code",
   "execution_count": 53,
   "metadata": {
    "scrolled": false
   },
   "outputs": [
    {
     "data": {
      "image/png": "[encoded data removed]",
      "text/plain": [
       "<Figure size 432x288 with 2 Axes>"
      ]
     },
     "metadata": {
      "needs_background": "light"
     },
     "output_type": "display_data"
    },
    {
     "data": {
      "image/png": "[encoded data removed]",
      "text/plain": [
       "<Figure size 432x288 with 2 Axes>"
      ]
     },
     "metadata": {
      "needs_background": "light"
     },
     "output_type": "display_data"
    },
    {
     "data": {
      "image/png": "[encoded data removed]",
      "text/plain": [
       "<Figure size 432x288 with 2 Axes>"
      ]
     },
     "metadata": {
      "needs_background": "light"
     },
     "output_type": "display_data"
    },
    {
     "data": {
      "image/png": "[encoded data removed]",
      "text/plain": [
       "<Figure size 432x288 with 2 Axes>"
      ]
     },
     "metadata": {
      "needs_background": "light"
     },
     "output_type": "display_data"
    },
    {
     "data": {
      "image/png": "[encoded data removed]",
      "text/plain": [
       "<Figure size 432x288 with 2 Axes>"
      ]
     },
     "metadata": {
      "needs_background": "light"
     },
     "output_type": "display_data"
    },
    {
     "data": {
      "image/png": "[encoded data removed]",
      "text/plain": [
       "<Figure size 432x288 with 2 Axes>"
      ]
     },
     "metadata": {
      "needs_background": "light"
     },
     "output_type": "display_data"
    },
    {
     "data": {
      "image/png": "[encoded data removed]",
      "text/plain": [
       "<Figure size 432x288 with 2 Axes>"
      ]
     },
     "metadata": {
      "needs_background": "light"
     },
     "output_type": "display_data"
    },
    {
     "data": {
      "image/png": "[encoded data removed]",
      "text/plain": [
       "<Figure size 432x288 with 2 Axes>"
      ]
     },
     "metadata": {
      "needs_background": "light"
     },
     "output_type": "display_data"
    },
    {
     "data": {
      "image/png": "[encoded data removed]",
      "text/plain": [
       "<Figure size 432x288 with 2 Axes>"
      ]
     },
     "metadata": {
      "needs_background": "light"
     },
     "output_type": "display_data"
    },
    {
     "data": {
      "image/png": "[encoded data removed]",
      "text/plain": [
       "<Figure size 432x288 with 2 Axes>"
      ]
     },
     "metadata": {
      "needs_background": "light"
     },
     "output_type": "display_data"
    },
    {
     "data": {
      "image/png": "[encoded data removed]",
      "text/plain": [
       "<Figure size 432x288 with 2 Axes>"
      ]
     },
     "metadata": {
      "needs_background": "light"
     },
     "output_type": "display_data"
    },
    {
     "data": {
      "image/png": "[encoded data removed]",
      "text/plain": [
       "<Figure size 432x288 with 2 Axes>"
      ]
     },
     "metadata": {
      "needs_background": "light"
     },
     "output_type": "display_data"
    },
    {
     "data": {
      "text/html": [
       "<div>\n",
       "<style scoped>\n",
       "    .dataframe tbody tr th:only-of-type {\n",
       "        vertical-align: middle;\n",
       "    }\n",
       "\n",
       "    .dataframe tbody tr th {\n",
       "        vertical-align: top;\n",
       "    }\n",
       "\n",
       "    .dataframe thead th {\n",
       "        text-align: right;\n",
       "    }\n",
       "</style>\n",
       "<table border=\"1\" class=\"dataframe\">\n",
       "  <thead>\n",
       "    <tr style=\"text-align: right;\">\n",
       "      <th></th>\n",
       "      <th>KNN</th>\n",
       "      <th>LogReg</th>\n",
       "      <th>GaussianNB</th>\n",
       "      <th>Tree</th>\n",
       "    </tr>\n",
       "  </thead>\n",
       "  <tbody>\n",
       "    <tr>\n",
       "      <th>dataset_changed</th>\n",
       "      <td>0.63345</td>\n",
       "      <td>0.821582</td>\n",
       "      <td>0.818759</td>\n",
       "      <td>0.642962</td>\n",
       "    </tr>\n",
       "    <tr>\n",
       "      <th>dataset_changed_no_service</th>\n",
       "      <td>0.63345</td>\n",
       "      <td>0.817511</td>\n",
       "      <td>0.812362</td>\n",
       "      <td>0.666717</td>\n",
       "    </tr>\n",
       "    <tr>\n",
       "      <th>original_dataset_changed</th>\n",
       "      <td>0.63345</td>\n",
       "      <td>0.830784</td>\n",
       "      <td>0.820295</td>\n",
       "      <td>0.658638</td>\n",
       "    </tr>\n",
       "  </tbody>\n",
       "</table>\n",
       "</div>"
      ],
      "text/plain": [
       "                                KNN    LogReg GaussianNB      Tree\n",
       "dataset_changed             0.63345  0.821582   0.818759  0.642962\n",
       "dataset_changed_no_service  0.63345  0.817511   0.812362  0.666717\n",
       "original_dataset_changed    0.63345  0.830784   0.820295  0.658638"
      ]
     },
     "execution_count": 53,
     "metadata": {},
     "output_type": "execute_result"
    }
   ],
   "source": [
    "#для начала создадим датафрейм куда будем записывать результаты\n",
    "\n",
    "dataset_results = pd.DataFrame(index = ['dataset_changed', 'dataset_changed_no_service', 'original_dataset_changed'], \\\n",
    "                               columns = ['KNN', 'LogReg', 'GaussianNB', 'Tree'])\n",
    "\n",
    "#определяем списки датасетов и моделей\n",
    "dataset_set = [dataset_changed, dataset_changed_no_service, original_dataset_changed]\n",
    "model_set = [KNeighborsClassifier, LogisticRegression, GaussianNB, DecisionTreeClassifier]\n",
    "\n",
    "#в цикле строим по очереди все модели с 3 датасетами и записываем результат в датафрейм\n",
    "col = 0\n",
    "\n",
    "for model in model_set:\n",
    "    row = 0\n",
    "    \n",
    "    for data in dataset_set:\n",
    "\n",
    "        dataset_results.iloc[row,col] = ModelCheck(data, dataset_target, model)\n",
    "        \n",
    "        row += 1\n",
    "        \n",
    "    col += 1\n",
    "    \n",
    "\n",
    "#выводим датафрейм с результатами\n",
    "dataset_results\n"
   ]
  },
  {
   "cell_type": "markdown",
   "metadata": {},
   "source": [
    "лучший показатель у модели LogisticRegression c датасетом original_dataset_changed\n",
    "Попробуем его улучшить.Для начала преобразуем данные с помощью StandardScaler"
   ]
  },
  {
   "cell_type": "code",
   "execution_count": 54,
   "metadata": {},
   "outputs": [],
   "source": [
    "from sklearn.preprocessing import StandardScaler\n",
    "\n",
    "dataset_transform = StandardScaler().fit_transform(original_dataset_changed)"
   ]
  },
  {
   "cell_type": "code",
   "execution_count": 55,
   "metadata": {},
   "outputs": [
    {
     "data": {
      "image/png": "[encoded data removed]",
      "text/plain": [
       "<Figure size 432x288 with 2 Axes>"
      ]
     },
     "metadata": {
      "needs_background": "light"
     },
     "output_type": "display_data"
    },
    {
     "data": {
      "text/plain": [
       "0.8345600214670421"
      ]
     },
     "execution_count": 55,
     "metadata": {},
     "output_type": "execute_result"
    }
   ],
   "source": [
    "#и посмотрим теперь на результат\n",
    "\n",
    "ModelCheck(dataset_transform, dataset_target, LogisticRegression)"
   ]
  },
  {
   "cell_type": "markdown",
   "metadata": {},
   "source": [
    "Результат немного улучшился. Теперь настроим гиперпараметры для LogisticRegression с помощью поиска по сетке."
   ]
  },
  {
   "cell_type": "code",
   "execution_count": 74,
   "metadata": {},
   "outputs": [
    {
     "data": {
      "text/plain": [
       "GridSearchCV(cv=5, estimator=LogisticRegression(),\n",
       "             param_grid={'C': array([1.00000000e-04, 1.88739182e-04, 3.56224789e-04, 6.72335754e-04,\n",
       "       1.26896100e-03, 2.39502662e-03, 4.52035366e-03, 8.53167852e-03,\n",
       "       1.61026203e-02, 3.03919538e-02, 5.73615251e-02, 1.08263673e-01,\n",
       "       2.04335972e-01, 3.85662042e-01, 7.27895384e-01, 1.37382380e+00,\n",
       "       2.59294380e+00, 4.89390092e+00, 9.23670857e+00, 1.74332882e+01,\n",
       "       3.29034456e+01, 6.21016942e+01, 1.17210230e+02, 2.21221629e+02,\n",
       "       4.17531894e+02, 7.88046282e+02, 1.48735211e+03, 2.80721620e+03,\n",
       "       5.29831691e+03, 1.00000000e+04]),\n",
       "                         'max_iter': [800, 900, 1000, 1100, 1200],\n",
       "                         'penalty': ['l1', 'l2'], 'solver': ['liblinear']},\n",
       "             scoring='roc_auc')"
      ]
     },
     "execution_count": 74,
     "metadata": {},
     "output_type": "execute_result"
    }
   ],
   "source": [
    "#импортируем нужную функцию\n",
    "from sklearn.model_selection import GridSearchCV\n",
    "\n",
    "#задаем гиперпараметры для поиска\n",
    "param_grid = {'penalty': ['l1', 'l2'],\\\n",
    "             'C': np.logspace(-4, 4, 30),\\\n",
    "             'solver': ['liblinear'],\\\n",
    "             'max_iter': [800,900,1000,1100,1200]}\n",
    "\n",
    "#определяем модель\n",
    "log_reg = LogisticRegression()\n",
    "\n",
    "#задаем решетчатый поиск\n",
    "grid_search = GridSearchCV(log_reg, param_grid, cv = 5, scoring = 'roc_auc')\n",
    "\n",
    "grid_search.fit(original_dataset_changed, dataset_target)"
   ]
  },
  {
   "cell_type": "code",
   "execution_count": 75,
   "metadata": {},
   "outputs": [
    {
     "name": "stdout",
     "output_type": "stream",
     "text": [
      "best params: {'C': 0.38566204211634725, 'max_iter': 900, 'penalty': 'l1', 'solver': 'liblinear'}\n"
     ]
    },
    {
     "data": {
      "text/plain": [
       "0.8452720849497288"
      ]
     },
     "execution_count": 75,
     "metadata": {},
     "output_type": "execute_result"
    }
   ],
   "source": [
    "#выводим лучшие параметры\n",
    "print('best params:' ,grid_search.best_params_)\n",
    "\n",
    "#и лучшую метрику\n",
    "grid_search.score(original_dataset_changed, dataset_target)"
   ]
  },
  {
   "cell_type": "markdown",
   "metadata": {},
   "source": [
    "как мы видим метрика улучшилась еще на 1 процент.\n",
    "На этом исследование считаю завершенным. Качество моделей уже сравнил"
   ]
  },
  {
   "cell_type": "markdown",
   "metadata": {
    "id": "uyDpeHkTVYSf"
   },
   "source": [
    "# 4. Сравнение качества моделей "
   ]
  },
  {
   "cell_type": "code",
   "execution_count": null,
   "metadata": {
    "id": "mryxTDJoVYSh"
   },
   "outputs": [],
   "source": [
    "### YOUR CODE HERE ###\n",
    "\n",
    "\n"
   ]
  }
 ],
 "metadata": {
  "colab": {
   "collapsed_sections": [],
   "name": "Coursework_ML.ipynb",
   "provenance": []
  },
  "kernelspec": {
   "display_name": "Python 3",
   "language": "python",
   "name": "python3"
  },
  "language_info": {
   "codemirror_mode": {
    "name": "ipython",
    "version": 3
   },
   "file_extension": ".py",
   "mimetype": "text/x-python",
   "name": "python",
   "nbconvert_exporter": "python",
   "pygments_lexer": "ipython3",
   "version": "3.7.10"
  }
 },
 "nbformat": 4,
 "nbformat_minor": 1
}
